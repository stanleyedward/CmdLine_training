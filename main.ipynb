{
 "cells": [
  {
   "cell_type": "code",
   "execution_count": 2,
   "metadata": {},
   "outputs": [
    {
     "name": "stdout",
     "output_type": "stream",
     "text": [
      "Cloning into 'pytorch_modules'...\n",
      "remote: Enumerating objects: 70, done.\u001b[K\n",
      "remote: Counting objects: 100% (70/70), done.\u001b[K\n",
      "remote: Compressing objects: 100% (51/51), done.\u001b[K\n",
      "remote: Total 70 (delta 24), reused 61 (delta 15), pack-reused 0\u001b[K\n",
      "Receiving objects: 100% (70/70), 24.40 KiB | 8.13 MiB/s, done.\n",
      "Resolving deltas: 100% (24/24), done.\n"
     ]
    }
   ],
   "source": [
    "!git clone https://github.com/stanleyedward/pytorch_modules.git"
   ]
  },
  {
   "cell_type": "code",
   "execution_count": 3,
   "metadata": {},
   "outputs": [],
   "source": [
    "!mv pytorch_modules/modules/train.py ."
   ]
  },
  {
   "cell_type": "code",
   "execution_count": 4,
   "metadata": {},
   "outputs": [],
   "source": [
    "!mv pytorch_modules/modules/prediction.py ."
   ]
  },
  {
   "cell_type": "code",
   "execution_count": 2,
   "metadata": {},
   "outputs": [
    {
     "name": "stdout",
     "output_type": "stream",
     "text": [
      "training a model with: \n",
      "epochs 5 \n",
      "batch_size 128 \n",
      "hidden_units 128\n",
      " learning_rate 0.0003\n",
      "  0%|                                                     | 0/5 [00:00<?, ?it/s]Epoch: 1 | train_loss: 1.0997 | train_acc: 0.3212 | test_loss: 1.0952 | test_acc: 0.3047\n",
      " 20%|█████████                                    | 1/5 [00:01<00:07,  1.91s/it]Epoch: 2 | train_loss: 1.0937 | train_acc: 0.3315 | test_loss: 1.0808 | test_acc: 0.3514\n",
      " 40%|██████████████████                           | 2/5 [00:03<00:05,  1.71s/it]Epoch: 3 | train_loss: 1.0771 | train_acc: 0.3978 | test_loss: 1.0700 | test_acc: 0.3384\n",
      " 60%|███████████████████████████                  | 3/5 [00:05<00:03,  1.65s/it]Epoch: 4 | train_loss: 1.0514 | train_acc: 0.3885 | test_loss: 1.0222 | test_acc: 0.6271\n",
      " 80%|████████████████████████████████████         | 4/5 [00:06<00:01,  1.64s/it]Epoch: 5 | train_loss: 1.0298 | train_acc: 0.5471 | test_loss: 0.9701 | test_acc: 0.6258\n",
      "100%|█████████████████████████████████████████████| 5/5 [00:08<00:00,  1.66s/it]\n",
      "[INFO] Saving model to: models/dummy_model.pth\n"
     ]
    }
   ],
   "source": [
    "!python train.py --epochs 5 --batch_size 128 --hidden_units 128 --lr 0.0003"
   ]
  },
  {
   "cell_type": "code",
   "execution_count": 4,
   "metadata": {},
   "outputs": [
    {
     "name": "stdout",
     "output_type": "stream",
     "text": [
      "Traceback (most recent call last):\n",
      "  File \"/home/stanley/Documents/shidder/ml/pytorching/pytorch_cmdline/prediction.py\", line 5, in <module>\n",
      "    from pytorch_modules.modules import model_builder\n",
      "ImportError: cannot import name 'model_builder' from 'pytorch_modules.modules' (unknown location)\n"
     ]
    }
   ],
   "source": [
    "\n",
    "!python prediction.py --image data/pizza_steak_sushi/test/sushi/175783.jpg"
   ]
  },
  {
   "cell_type": "code",
   "execution_count": null,
   "metadata": {},
   "outputs": [],
   "source": []
  }
 ],
 "metadata": {
  "kernelspec": {
   "display_name": "Python 3",
   "language": "python",
   "name": "python3"
  },
  "language_info": {
   "codemirror_mode": {
    "name": "ipython",
    "version": 3
   },
   "file_extension": ".py",
   "mimetype": "text/x-python",
   "name": "python",
   "nbconvert_exporter": "python",
   "pygments_lexer": "ipython3",
   "version": "3.11.5"
  },
  "orig_nbformat": 4
 },
 "nbformat": 4,
 "nbformat_minor": 2
}
